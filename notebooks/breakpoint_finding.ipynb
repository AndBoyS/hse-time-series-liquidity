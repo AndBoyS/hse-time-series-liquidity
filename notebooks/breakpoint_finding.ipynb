{
 "cells": [
  {
   "cell_type": "code",
   "execution_count": 1,
   "id": "b2c4bfe2",
   "metadata": {},
   "outputs": [],
   "source": [
    "import numpy as np\n",
    "import pandas as pd\n",
    "\n",
    "import matplotlib.pyplot as plt\n",
    "import seaborn as sns\n",
    "from tqdm.notebook import tqdm\n",
    "\n",
    "import cumsum_finder"
   ]
  },
  {
   "cell_type": "code",
   "execution_count": 2,
   "id": "9bf52504",
   "metadata": {},
   "outputs": [],
   "source": [
    "%cd -q ../data\n",
    "xls = pd.ExcelFile('Project 2_2022.xlsx')\n",
    "df = pd.read_excel(xls, 'Data')\n",
    "%cd -q ../notebooks"
   ]
  },
  {
   "cell_type": "code",
   "execution_count": 4,
   "id": "2ccb7ba0",
   "metadata": {},
   "outputs": [
    {
     "data": {
      "text/html": [
       "<div>\n",
       "<style scoped>\n",
       "    .dataframe tbody tr th:only-of-type {\n",
       "        vertical-align: middle;\n",
       "    }\n",
       "\n",
       "    .dataframe tbody tr th {\n",
       "        vertical-align: top;\n",
       "    }\n",
       "\n",
       "    .dataframe thead th {\n",
       "        text-align: right;\n",
       "    }\n",
       "</style>\n",
       "<table border=\"1\" class=\"dataframe\">\n",
       "  <thead>\n",
       "    <tr style=\"text-align: right;\">\n",
       "      <th></th>\n",
       "      <th>Date</th>\n",
       "      <th>Income</th>\n",
       "      <th>Outcome</th>\n",
       "      <th>Balance</th>\n",
       "    </tr>\n",
       "  </thead>\n",
       "  <tbody>\n",
       "    <tr>\n",
       "      <th>0</th>\n",
       "      <td>2017-01-09 00:00:00.000</td>\n",
       "      <td>1.343028</td>\n",
       "      <td>1.487865</td>\n",
       "      <td>-0.155904</td>\n",
       "    </tr>\n",
       "    <tr>\n",
       "      <th>1</th>\n",
       "      <td>2017-01-10 00:00:00.000</td>\n",
       "      <td>1.068610</td>\n",
       "      <td>1.194182</td>\n",
       "      <td>-0.125572</td>\n",
       "    </tr>\n",
       "    <tr>\n",
       "      <th>2</th>\n",
       "      <td>2017-01-11 00:00:00.000</td>\n",
       "      <td>0.944429</td>\n",
       "      <td>0.936663</td>\n",
       "      <td>0.007767</td>\n",
       "    </tr>\n",
       "    <tr>\n",
       "      <th>3</th>\n",
       "      <td>2017-01-12 00:00:00.000</td>\n",
       "      <td>1.672202</td>\n",
       "      <td>0.875379</td>\n",
       "      <td>0.800391</td>\n",
       "    </tr>\n",
       "    <tr>\n",
       "      <th>4</th>\n",
       "      <td>2017-01-13 00:00:00.000</td>\n",
       "      <td>0.955924</td>\n",
       "      <td>0.975645</td>\n",
       "      <td>-0.019721</td>\n",
       "    </tr>\n",
       "  </tbody>\n",
       "</table>\n",
       "</div>"
      ],
      "text/plain": [
       "                      Date    Income   Outcome   Balance\n",
       "0  2017-01-09 00:00:00.000  1.343028  1.487865 -0.155904\n",
       "1  2017-01-10 00:00:00.000  1.068610  1.194182 -0.125572\n",
       "2  2017-01-11 00:00:00.000  0.944429  0.936663  0.007767\n",
       "3  2017-01-12 00:00:00.000  1.672202  0.875379  0.800391\n",
       "4  2017-01-13 00:00:00.000  0.955924  0.975645 -0.019721"
      ]
     },
     "execution_count": 4,
     "metadata": {},
     "output_type": "execute_result"
    }
   ],
   "source": [
    "df.head()"
   ]
  },
  {
   "cell_type": "code",
   "execution_count": 6,
   "id": "dea7989e",
   "metadata": {},
   "outputs": [
    {
     "data": {
      "application/vnd.jupyter.widget-view+json": {
       "model_id": "136c8ef998dd48aeafc474cbea229f3c",
       "version_major": 2,
       "version_minor": 0
      },
      "text/plain": [
       "0it [00:00, ?it/s]"
      ]
     },
     "metadata": {},
     "output_type": "display_data"
    }
   ],
   "source": [
    "var = 1.\n",
    "alpha = 0.05\n",
    "beta = 0.005\n",
    "mean_diff = 0.01\n",
    "\n",
    "stat_trajectory = []\n",
    "\n",
    "cusum = cumsum_finder.MeanExp(alpha, beta, mean_diff, trsh=0.03)\n",
    "for k, x_k in tqdm(enumerate(df['Balance'].values)):\n",
    "    cusum.update(x_k)\n",
    "    cusum.count_metric()\n",
    "    stat_trajectory.append(cusum.metric)"
   ]
  },
  {
   "cell_type": "code",
   "execution_count": 7,
   "id": "9304dbc9",
   "metadata": {},
   "outputs": [
    {
     "data": {
      "text/plain": [
       "<AxesSubplot:>"
      ]
     },
     "execution_count": 7,
     "metadata": {},
     "output_type": "execute_result"
    },
    {
     "data": {
      "image/png": "[encoded data removed]",
      "text/plain": [
       "<Figure size 432x288 with 1 Axes>"
      ]
     },
     "metadata": {
      "needs_background": "light"
     },
     "output_type": "display_data"
    }
   ],
   "source": [
    "sns.lineplot(x = [i for i in range(len(stat_trajectory))], y=stat_trajectory, hue=cusum.breakpoints)"
   ]
  },
  {
   "cell_type": "code",
   "execution_count": null,
   "id": "e848fc30",
   "metadata": {},
   "outputs": [],
   "source": []
  },
  {
   "cell_type": "code",
   "execution_count": null,
   "id": "dc2592ec",
   "metadata": {},
   "outputs": [],
   "source": []
  }
 ],
 "metadata": {
  "kernelspec": {
   "display_name": "Python 3",
   "language": "python",
   "name": "python3"
  },
  "language_info": {
   "codemirror_mode": {
    "name": "ipython",
    "version": 3
   },
   "file_extension": ".py",
   "mimetype": "text/x-python",
   "name": "python",
   "nbconvert_exporter": "python",
   "pygments_lexer": "ipython3",
   "version": "3.8.8"
  }
 },
 "nbformat": 4,
 "nbformat_minor": 5
}
